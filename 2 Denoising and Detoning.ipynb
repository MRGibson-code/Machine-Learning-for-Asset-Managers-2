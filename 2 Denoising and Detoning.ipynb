{
 "cells": [
  {
   "cell_type": "markdown",
   "metadata": {},
   "source": [
    "# Chapter 2 Denoising and Detoning\n",
    "\n",
    "reduce the noise and enhance the signal included in an empirical covariance matrix."
   ]
  },
  {
   "cell_type": "code",
   "execution_count": 59,
   "metadata": {
    "ExecuteTime": {
     "end_time": "2020-08-18T16:37:41.612565Z",
     "start_time": "2020-08-18T16:37:41.608071Z"
    }
   },
   "outputs": [],
   "source": [
    "import numpy as np,pandas as pd\n",
    "import matplotlib.pyplot as plt\n",
    "from tqdm.notebook import tqdm"
   ]
  },
  {
   "cell_type": "markdown",
   "metadata": {},
   "source": [
    "## The Marcenko-Pastur Theorem\n"
   ]
  },
  {
   "cell_type": "markdown",
   "metadata": {},
   "source": [
    "### SNIPPET 2.1"
   ]
  },
  {
   "cell_type": "code",
   "execution_count": 60,
   "metadata": {
    "ExecuteTime": {
     "end_time": "2020-08-18T16:37:42.559595Z",
     "start_time": "2020-08-18T16:37:42.550152Z"
    }
   },
   "outputs": [],
   "source": [
    "\n",
    "#--------------------------------------------------- \n",
    "\n",
    "def mpPDF(var,q,pts):\n",
    "    # Marcenko-Pastur pdf\n",
    "    # q=T/N \n",
    "    # when var= 1, C = T^-1 X'X  is the correlation matrix associated with X\n",
    "    # lambda+ =,lambda- = eMax, eMin\n",
    "    eMin,eMax=var*(1-(1./q)**.5)**2,var*(1+(1./q)**.5)**2 \n",
    "    eVal=np.linspace(eMin,eMax,pts) \n",
    "    pdf=q/(2*np.pi*var*eVal)*((eMax-eVal)*(eVal-eMin))**.5 \n",
    "    #pdf = pdf.ravel()\n",
    "    pdf=pd.Series(pdf,index=eVal)\n",
    "    return pdf\n"
   ]
  },
  {
   "cell_type": "markdown",
   "metadata": {},
   "source": [
    "### SNIPPET 2.2"
   ]
  },
  {
   "cell_type": "code",
   "execution_count": 61,
   "metadata": {
    "ExecuteTime": {
     "end_time": "2020-08-18T16:37:47.951179Z",
     "start_time": "2020-08-18T16:37:47.943257Z"
    }
   },
   "outputs": [],
   "source": [
    "from sklearn.neighbors.kde import KernelDensity\n",
    "#--------------------------------------------------- \n",
    "def getPCA(matrix):\n",
    "    # Get eVal,eVec from a Hermitian matrix \n",
    "    eVal,eVec=np.linalg.eigh(matrix) \n",
    "    indices=eVal.argsort()[::-1] # arguments for sorting eVal desc \n",
    "    eVal,eVec=eVal[indices],eVec[:,indices] \n",
    "    eVal=np.diagflat(eVal)\n",
    "    return eVal,eVec \n",
    "#--------------------------------------------------- \n",
    "def fitKDE(obs,bWidth=.25,kernel='gaussian',x=None):\n",
    "    # Fit kernel to a series of obs, and derive the prob of obs\n",
    "    # x is the array of values on which the fit KDE will be evaluated \n",
    "    if len(obs.shape)==1:\n",
    "        obs=obs.reshape(-1,1) \n",
    "    kde=KernelDensity(kernel=kernel,bandwidth=bWidth).fit(obs) \n",
    "    if x is None:\n",
    "        x=np.unique(obs).reshape(-1,1)\n",
    "    if len(x.shape)==1:\n",
    "        x=x.reshape(-1,1) \n",
    "    logProb=kde.score_samples(x) # log(density) \n",
    "    pdf=pd.Series(np.exp(logProb),index=x.flatten())\n",
    "    return pdf\n"
   ]
  },
  {
   "cell_type": "code",
   "execution_count": 62,
   "metadata": {
    "ExecuteTime": {
     "end_time": "2020-08-18T16:37:49.512952Z",
     "start_time": "2020-08-18T16:37:48.661521Z"
    }
   },
   "outputs": [
    {
     "data": {
      "text/plain": [
       "[<matplotlib.lines.Line2D at 0x12c2fcc18>]"
      ]
     },
     "execution_count": 62,
     "metadata": {},
     "output_type": "execute_result"
    },
    {
     "data": {
      "text/plain": [
       "[<matplotlib.lines.Line2D at 0x1268c7048>]"
      ]
     },
     "execution_count": 62,
     "metadata": {},
     "output_type": "execute_result"
    },
    {
     "data": {
      "text/plain": [
       "Text(0.5, 0, '$\\\\lambda$')"
      ]
     },
     "execution_count": 62,
     "metadata": {},
     "output_type": "execute_result"
    },
    {
     "data": {
      "text/plain": [
       "Text(0, 0.5, 'prob[$\\\\lambda$]')"
      ]
     },
     "execution_count": 62,
     "metadata": {},
     "output_type": "execute_result"
    },
    {
     "data": {
      "text/plain": [
       "<matplotlib.legend.Legend at 0x1268c71d0>"
      ]
     },
     "execution_count": 62,
     "metadata": {},
     "output_type": "execute_result"
    },
    {
     "data": {
      "image/png": "[encoded data removed]",
      "text/plain": [
       "<Figure size 432x288 with 1 Axes>"
      ]
     },
     "metadata": {
      "needs_background": "light"
     },
     "output_type": "display_data"
    }
   ],
   "source": [
    "#--------------------------------------------------- \n",
    "x=np.random.normal(size=(10000,1000)) \n",
    "eVal0,eVec0=getPCA(np.corrcoef(x,rowvar=False)) # each column is a variable\n",
    "pdf0=mpPDF(1.,q=x.shape[0]/float(x.shape[1]),pts=1000) \n",
    "pdf1=fitKDE(np.diag(eVal0),bWidth=.01) # empirical pdf\n",
    "ax = plt.figure().add_subplot(111)\n",
    "ax.plot(pdf0,label= 'Marcenko-Pastur')\n",
    "ax.plot(pdf1,linestyle = '--',label= 'Empirical:KDE')\n",
    "ax.set_xlabel(r'$\\lambda$')\n",
    "ax.set_ylabel(r'prob[$\\lambda$]')\n",
    "ax.legend()"
   ]
  },
  {
   "cell_type": "markdown",
   "metadata": {
    "ExecuteTime": {
     "end_time": "2020-08-18T13:21:47.400283Z",
     "start_time": "2020-08-18T13:21:47.397362Z"
    }
   },
   "source": [
    "## Random Matrix with Signal (not perfectly random)"
   ]
  },
  {
   "cell_type": "code",
   "execution_count": 63,
   "metadata": {
    "ExecuteTime": {
     "end_time": "2020-08-18T16:37:51.878728Z",
     "start_time": "2020-08-18T16:37:51.263472Z"
    }
   },
   "outputs": [],
   "source": [
    "#SNIPPET 2.3 ADD SIGNAL TO A RANDOM COVARIANCE MATRIX\n",
    "def getRndCov(nCols,nFacts): \n",
    "    w=np.random.normal(size=(nCols,nFacts))\n",
    "    cov=np.dot(w,w.T) # random cov matrix, however not full rank \n",
    "    cov+=np.diag(np.random.uniform(size=nCols)) # full rank cov \n",
    "    return cov\n",
    "#--------------------------------------------------- \n",
    "def cov2corr(cov):\n",
    "    # Derive the correlation matrix from a covariance matrix\n",
    "    std=np.sqrt(np.diag(cov)) \n",
    "    corr=cov/np.outer(std,std) \n",
    "    corr[corr<-1],corr[corr>1]=-1,1 # numerical error \n",
    "    return corr\n",
    "#--------------------------------------------------- \n",
    "alpha,nCols,nFact,q=.995,1000,100,10 \n",
    "cov=np.cov(np.random.normal(size=(nCols*q,nCols)),rowvar=False) \n",
    "cov=alpha*cov+(1-alpha)*getRndCov(nCols,nFact) # noise+signal \n",
    "corr0=cov2corr(cov)\n",
    "eVal0,eVec0=getPCA(corr0)"
   ]
  },
  {
   "cell_type": "code",
   "execution_count": 64,
   "metadata": {
    "ExecuteTime": {
     "end_time": "2020-08-18T16:37:53.212148Z",
     "start_time": "2020-08-18T16:37:52.564253Z"
    }
   },
   "outputs": [],
   "source": [
    "#SNIPPET 2.4 FITTING THE MARCENKO–PASTUR PDF \n",
    "from scipy.optimize import minimize\n",
    "#--------------------------------------------------- \n",
    "def errPDFs(var,eVal,q,bWidth,pts=1000):\n",
    "    # Fit error\n",
    "    var = var[0]\n",
    "    pdf0=mpPDF(var,q,pts) # theoretical pdf \n",
    "    pdf1=fitKDE(eVal,bWidth,x=pdf0.index.values) # empirical pdf \n",
    "    #import pdb; pdb.set_trace()\n",
    "    sse=np.sum((pdf1-pdf0)**2)\n",
    "    return sse\n",
    "#--------------------------------------------------- \n",
    "def findMaxEval(eVal,q,bWidth):\n",
    "# Find max random eVal by fitting Marcenko’s dist \n",
    "    out=minimize(lambda *x: errPDFs(*x),.5,args=(eVal,q,bWidth),bounds=((1E-5,1-1E-5),))\n",
    "    if out['success']:\n",
    "        var=out['x'][0] \n",
    "    else:\n",
    "        var=1 \n",
    "    eMax=var*(1+(1./q)**.5)**2\n",
    "    return eMax,var\n",
    "#--------------------------------------------------- \n",
    "eMax0,var0=findMaxEval(np.diag(eVal0),q,bWidth=.01) \n",
    "nFacts0=eVal0.shape[0]-np.diag(eVal0)[::-1].searchsorted(eMax0)\n",
    "\n",
    "# nFacts0 gives the number of the eigenvalue is assumed to be important (cutoff level lambda+ adjusted for the presence of nonrandom eigenvectors)"
   ]
  },
  {
   "cell_type": "code",
   "execution_count": 65,
   "metadata": {
    "ExecuteTime": {
     "end_time": "2020-08-18T16:37:57.093593Z",
     "start_time": "2020-08-18T16:37:53.944351Z"
    }
   },
   "outputs": [
    {
     "data": {
      "text/plain": [
       "[<matplotlib.lines.Line2D at 0x12c2fcc88>]"
      ]
     },
     "execution_count": 65,
     "metadata": {},
     "output_type": "execute_result"
    },
    {
     "data": {
      "text/plain": [
       "<BarContainer object of 1000 artists>"
      ]
     },
     "execution_count": 65,
     "metadata": {},
     "output_type": "execute_result"
    },
    {
     "data": {
      "text/plain": [
       "Text(0.5, 0, '$\\\\lambda$')"
      ]
     },
     "execution_count": 65,
     "metadata": {},
     "output_type": "execute_result"
    },
    {
     "data": {
      "text/plain": [
       "Text(0, 0.5, 'prob[$\\\\lambda$]')"
      ]
     },
     "execution_count": 65,
     "metadata": {},
     "output_type": "execute_result"
    },
    {
     "data": {
      "text/plain": [
       "<matplotlib.legend.Legend at 0x12644a5f8>"
      ]
     },
     "execution_count": 65,
     "metadata": {},
     "output_type": "execute_result"
    },
    {
     "data": {
      "image/png": "[encoded data removed]",
      "text/plain": [
       "<Figure size 432x288 with 1 Axes>"
      ]
     },
     "metadata": {
      "needs_background": "light"
     },
     "output_type": "display_data"
    }
   ],
   "source": [
    "#---------------------------------------------------\n",
    "# Fitting the Marcenko–Pastur PDF on a noisy covariance matrix.\n",
    "# estimate the sigma for Marcenko-Pastur dist\n",
    "bWidth=0.01\n",
    "out=minimize(lambda *x: errPDFs(*x),.5,args=(np.diag(eVal0),q,bWidth),bounds=((1E-5,1-1E-5),))\n",
    "if out['success']:\n",
    "    var=out['x'][0] \n",
    "else:\n",
    "    var=1\n",
    "\n",
    "pdf0=mpPDF(var,q,pts=1000) # Marcenko-Pastur dist\n",
    "pdf1=fitKDE(np.diag(eVal0),bWidth=.01) # empirical pdf\n",
    "ax = plt.figure().add_subplot(111)\n",
    "ax.plot(pdf0,label= 'Marcenko-Pastur dist')\n",
    "ax.bar(pdf1.index,pdf1.values,width = bWidth,label= 'Empirical dist',color = 'darkorange')\n",
    "ax.set_xlabel(r'$\\lambda$')\n",
    "ax.set_ylabel(r'prob[$\\lambda$]')\n",
    "ax.legend()"
   ]
  },
  {
   "cell_type": "markdown",
   "metadata": {
    "ExecuteTime": {
     "end_time": "2020-08-18T14:53:35.920500Z",
     "start_time": "2020-08-18T14:53:35.899509Z"
    }
   },
   "source": [
    "## 2.5 Denoising"
   ]
  },
  {
   "cell_type": "markdown",
   "metadata": {},
   "source": [
    "### 2.5.1 Constant Residual Eigenvalue Method\n",
    "\n",
    "setting a constant eigenvalue for all random eigenvectors."
   ]
  },
  {
   "cell_type": "code",
   "execution_count": 66,
   "metadata": {
    "ExecuteTime": {
     "end_time": "2020-08-18T16:38:00.570188Z",
     "start_time": "2020-08-18T16:38:00.348781Z"
    }
   },
   "outputs": [],
   "source": [
    "def denoisedCorr(eVal,eVec,nFacts):\n",
    "    # Remove noise from corr by fixing random eigenvalues \n",
    "    eVal_=np.diag(eVal).copy() \n",
    "    eVal_[nFacts:]=eVal_[nFacts:].sum()/float(eVal_.shape[0]-nFacts) # average the rest\n",
    "    eVal_=np.diag(eVal_)\n",
    "    corr1=np.dot(eVec,eVal_).dot(eVec.T) \n",
    "    corr1=cov2corr(corr1)\n",
    "    return corr1\n",
    "#--------------------------------------------------- \n",
    "corr1=denoisedCorr(eVal0,eVec0,nFacts0) \n",
    "eVal1,eVec1=getPCA(corr1)"
   ]
  },
  {
   "cell_type": "code",
   "execution_count": 67,
   "metadata": {
    "ExecuteTime": {
     "end_time": "2020-08-18T16:38:01.662751Z",
     "start_time": "2020-08-18T16:38:01.413611Z"
    }
   },
   "outputs": [
    {
     "data": {
      "text/plain": [
       "[<matplotlib.lines.Line2D at 0x1311b1c88>]"
      ]
     },
     "execution_count": 67,
     "metadata": {},
     "output_type": "execute_result"
    },
    {
     "data": {
      "text/plain": [
       "[<matplotlib.lines.Line2D at 0x1311b15f8>]"
      ]
     },
     "execution_count": 67,
     "metadata": {},
     "output_type": "execute_result"
    },
    {
     "data": {
      "text/plain": [
       "<matplotlib.legend.Legend at 0x130b26a90>"
      ]
     },
     "execution_count": 67,
     "metadata": {},
     "output_type": "execute_result"
    },
    {
     "data": {
      "text/plain": [
       "Text(0.5, 0, 'Eigenvalue number')"
      ]
     },
     "execution_count": 67,
     "metadata": {},
     "output_type": "execute_result"
    },
    {
     "data": {
      "text/plain": [
       "Text(0, 0.5, 'Eigenvalue (log-scale)')"
      ]
     },
     "execution_count": 67,
     "metadata": {},
     "output_type": "execute_result"
    },
    {
     "data": {
      "image/png": "[encoded data removed]",
      "text/plain": [
       "<Figure size 432x288 with 1 Axes>"
      ]
     },
     "metadata": {
      "needs_background": "light"
     },
     "output_type": "display_data"
    }
   ],
   "source": [
    "# A comparison of eigenvalues before and after applying the residual eigenvalue method.\n",
    "ax = plt.figure().add_subplot(111)\n",
    "ax.plot(np.diagonal(eVal0),label = 'Original eigen-function')\n",
    "ax.plot(np.diagonal(eVal1),label = 'Denoised eigen-function (Constant Residual)',linestyle = '--')\n",
    "ax.legend()\n",
    "ax.set_yscale('log')\n",
    "ax.set_xlabel('Eigenvalue number')\n",
    "ax.set_ylabel('Eigenvalue (log-scale)')"
   ]
  },
  {
   "cell_type": "markdown",
   "metadata": {},
   "source": [
    "### 2.5.2 Targeted Shrinkage\n",
    "$\\alpha$ regulates the amount fo shrinkage among the eigen vectors"
   ]
  },
  {
   "cell_type": "code",
   "execution_count": 68,
   "metadata": {
    "ExecuteTime": {
     "end_time": "2020-08-18T16:38:03.580437Z",
     "start_time": "2020-08-18T16:38:03.361109Z"
    }
   },
   "outputs": [],
   "source": [
    "#SNIPPET 2.6 DENOISING BY TARGETED SHRINKAGE\n",
    "def denoisedCorr2(eVal,eVec,nFacts,alpha=0):\n",
    "# Remove noise from corr through targeted shrinkage\n",
    "    eValL,eVecL=eVal[:nFacts,:nFacts],eVec[:,:nFacts] \n",
    "    eValR,eVecR=eVal[nFacts:,nFacts:],eVec[:,nFacts:] \n",
    "    corr0=np.dot(eVecL,eValL).dot(eVecL.T) \n",
    "    corr1=np.dot(eVecR,eValR).dot(eVecR.T) \n",
    "    corr2=corr0+alpha*corr1+(1-alpha)*np.diag(np.diag(corr1)) \n",
    "    return corr2\n",
    "#--------------------------------------------------- \n",
    "corr1=denoisedCorr2(eVal0,eVec0,nFacts0,alpha=.5) \n",
    "eVal1,eVec1=getPCA(corr1)"
   ]
  },
  {
   "cell_type": "code",
   "execution_count": 69,
   "metadata": {
    "ExecuteTime": {
     "end_time": "2020-08-18T16:38:04.520750Z",
     "start_time": "2020-08-18T16:38:04.241940Z"
    }
   },
   "outputs": [
    {
     "data": {
      "text/plain": [
       "[<matplotlib.lines.Line2D at 0x13f304080>]"
      ]
     },
     "execution_count": 69,
     "metadata": {},
     "output_type": "execute_result"
    },
    {
     "data": {
      "text/plain": [
       "[<matplotlib.lines.Line2D at 0x13f3041d0>]"
      ]
     },
     "execution_count": 69,
     "metadata": {},
     "output_type": "execute_result"
    },
    {
     "data": {
      "text/plain": [
       "<matplotlib.legend.Legend at 0x1311db208>"
      ]
     },
     "execution_count": 69,
     "metadata": {},
     "output_type": "execute_result"
    },
    {
     "data": {
      "text/plain": [
       "Text(0.5, 0, 'Eigenvalue number')"
      ]
     },
     "execution_count": 69,
     "metadata": {},
     "output_type": "execute_result"
    },
    {
     "data": {
      "text/plain": [
       "Text(0, 0.5, 'Eigenvalue (log-scale)')"
      ]
     },
     "execution_count": 69,
     "metadata": {},
     "output_type": "execute_result"
    },
    {
     "data": {
      "image/png": "[encoded data removed]",
      "text/plain": [
       "<Figure size 432x288 with 1 Axes>"
      ]
     },
     "metadata": {
      "needs_background": "light"
     },
     "output_type": "display_data"
    }
   ],
   "source": [
    "# A comparison of eigenvalues before and after applying the residual eigenvalue method.\n",
    "ax = plt.figure().add_subplot(111)\n",
    "ax.plot(np.diagonal(eVal0),label = 'Original eigen-function')\n",
    "ax.plot(np.diagonal(eVal1),label = 'Denoised eigen-function (targeted shrinkage)',linestyle = '--')\n",
    "ax.legend()\n",
    "ax.set_yscale('log')\n",
    "ax.set_xlabel('Eigenvalue number')\n",
    "ax.set_ylabel('Eigenvalue (log-scale)')"
   ]
  },
  {
   "cell_type": "markdown",
   "metadata": {},
   "source": [
    "# Experimental Results\n",
    "## 2.7.1 Minimum Variance Portfolio"
   ]
  },
  {
   "cell_type": "code",
   "execution_count": 70,
   "metadata": {
    "ExecuteTime": {
     "end_time": "2020-08-18T16:38:06.054438Z",
     "start_time": "2020-08-18T16:38:06.049872Z"
    }
   },
   "outputs": [],
   "source": [
    "def corr2cov(corr,std):\n",
    "    # Derive the covariance matrix from a correlation matrix\n",
    "    corr[corr<-1],corr[corr>1]=-1,1 # numerical error \n",
    "    cov = np.outer(std,std)*corr\n",
    "    return cov"
   ]
  },
  {
   "cell_type": "code",
   "execution_count": 71,
   "metadata": {
    "ExecuteTime": {
     "end_time": "2020-08-18T16:38:07.168761Z",
     "start_time": "2020-08-18T16:38:06.895827Z"
    }
   },
   "outputs": [],
   "source": [
    "\n",
    "#SNIPPET 2.7 GENERATING A BLOCK-DIAGONAL COVARIANCE MATRIX AND A VECTOR OF MEANS\n",
    "def formBlockMatrix(nBlocks,bSize,bCorr): \n",
    "    block=np.ones((bSize,bSize))*bCorr \n",
    "    block[range(bSize),range(bSize)]=1 \n",
    "    corr=block_diag(*([block]*nBlocks)) \n",
    "    return corr\n",
    "#--------------------------------------------------- \n",
    "def formTrueMatrix(nBlocks,bSize,bCorr):\n",
    "    #In each block, the variances are drawn from a uniform distribution bounded between 5% and 20%; the vector of means is drawn from a Normal distribution with mean and standard deviation equal to the standard deviation from the covariance matrix\n",
    "    corr0=formBlockMatrix(nBlocks,bSize,bCorr) \n",
    "    corr0=pd.DataFrame(corr0)\n",
    "    cols=corr0.columns.tolist()\n",
    "    np.random.shuffle(cols) \n",
    "    corr0=corr0[cols].loc[cols].copy(deep=True) \n",
    "    std0=np.random.uniform(.05,.2,corr0.shape[0]) \n",
    "    cov0=corr2cov(corr0,std0) \n",
    "    mu0=np.random.normal(std0,std0,cov0.shape[0]).reshape(-1,1) \n",
    "    return mu0,cov0\n",
    "#--------------------------------------------------- \n",
    "from scipy.linalg import block_diag\n",
    "from sklearn.covariance import LedoitWolf \n",
    "nBlocks,bSize,bCorr=10,50,.5\n",
    "np.random.seed(0)\n",
    "mu0,cov0=formTrueMatrix(nBlocks,bSize,bCorr)"
   ]
  },
  {
   "cell_type": "code",
   "execution_count": 72,
   "metadata": {
    "ExecuteTime": {
     "end_time": "2020-08-18T16:38:07.812071Z",
     "start_time": "2020-08-18T16:38:07.805500Z"
    }
   },
   "outputs": [],
   "source": [
    "#SNIPPET 2.8 GENERATING THE EMPIRICAL COVARIANCE MATRIX\n",
    "def simCovMu(mu0,cov0,nObs,shrink=False): \n",
    "    x=np.random.multivariate_normal(mu0.flatten(),cov0,size=nObs) \n",
    "    mu1=x.mean(axis=0).reshape(-1,1)\n",
    "    if shrink:\n",
    "        cov1=LedoitWolf().fit(x).covariance_ \n",
    "    else:\n",
    "        cov1=np.cov(x,rowvar=0)\n",
    "    return mu1,cov1"
   ]
  },
  {
   "cell_type": "code",
   "execution_count": 73,
   "metadata": {
    "ExecuteTime": {
     "end_time": "2020-08-18T16:38:08.553130Z",
     "start_time": "2020-08-18T16:38:08.547517Z"
    }
   },
   "outputs": [],
   "source": [
    "# SNIPPET 2.9 DENOISING OF THE EMPIRICAL COVARIANCE MATRIX\n",
    "def deNoiseCov(cov0,q,bWidth):\n",
    "    corr0=cov2corr(cov0)\n",
    "    eVal0,eVec0=getPCA(corr0) \n",
    "    eMax0,var0=findMaxEval(np.diag(eVal0),q,bWidth) \n",
    "    nFacts0=eVal0.shape[0]-np.diag(eVal0)[::-1].searchsorted(eMax0) \n",
    "    corr1=denoisedCorr(eVal0,eVec0,nFacts0) \n",
    "    cov1=corr2cov(corr1,np.diag(cov0)**.5)\n",
    "    return cov1"
   ]
  },
  {
   "cell_type": "code",
   "execution_count": 82,
   "metadata": {
    "ExecuteTime": {
     "end_time": "2020-08-18T17:06:00.379331Z",
     "start_time": "2020-08-18T17:04:42.365051Z"
    }
   },
   "outputs": [
    {
     "data": {
      "application/vnd.jupyter.widget-view+json": {
       "model_id": "29fd813d5ac647128e9b58c7ea30af24",
       "version_major": 2,
       "version_minor": 0
      },
      "text/plain": [
       "HBox(children=(FloatProgress(value=0.0), HTML(value='')))"
      ]
     },
     "metadata": {},
     "output_type": "display_data"
    },
    {
     "name": "stdout",
     "output_type": "stream",
     "text": [
      "\n"
     ]
    },
    {
     "data": {
      "application/vnd.jupyter.widget-view+json": {
       "model_id": "be0783c308214f5a9bd4cdab0b569653",
       "version_major": 2,
       "version_minor": 0
      },
      "text/plain": [
       "HBox(children=(FloatProgress(value=0.0), HTML(value='')))"
      ]
     },
     "metadata": {},
     "output_type": "display_data"
    },
    {
     "name": "stdout",
     "output_type": "stream",
     "text": [
      "\n"
     ]
    }
   ],
   "source": [
    "#SNIPPET 2.10 DENOISING OF THE EMPIRICAL COVARIANCE MATRIX\n",
    "def optPort(cov,mu=None): # optimal portfolio for minimum variance\n",
    "    inv=np.linalg.inv(cov) \n",
    "    ones=np.ones(shape=(inv.shape[0],1)) \n",
    "    if mu is None:\n",
    "        mu=ones\n",
    "    w=np.dot(inv,mu) \n",
    "    w/=np.dot(ones.T,w) \n",
    "    return w\n",
    "#--------------------------------------------------- \n",
    "nObs,nTrials,bWidth,shrink,minVarPortf=1000,100,.01,False,True \n",
    "w1= w1_s=pd.DataFrame(columns=range(cov0.shape[0]),\n",
    "index=range(nTrials),dtype=float) \n",
    "w1_d=w1.copy(deep=True)\n",
    "w1_s_d = w1_s.copy(deep = True)\n",
    "np.random.seed(0)\n",
    "for i in tqdm(range(nTrials)):\n",
    "    mu1,cov1=simCovMu(mu0,cov0,nObs,shrink=True)\n",
    "    if minVarPortf:\n",
    "        mu1=None \n",
    "    cov1_d=deNoiseCov(cov1,nObs*1./cov1.shape[1],bWidth) \n",
    "    w1_s.loc[i]=optPort(cov1,mu1).flatten() \n",
    "    w1_s_d.loc[i]=optPort(cov1_d,mu1).flatten()\n",
    "    \n",
    "    \n",
    "for i in tqdm(range(nTrials)):\n",
    "    mu1,cov1=simCovMu(mu0,cov0,nObs,shrink=False)\n",
    "    if minVarPortf:\n",
    "        mu1=None \n",
    "    cov1_d=deNoiseCov(cov1,nObs*1./cov1.shape[1],bWidth) \n",
    "    w1.loc[i]=optPort(cov1,mu1).flatten() \n",
    "    w1_d.loc[i]=optPort(cov1_d,mu1).flatten()"
   ]
  },
  {
   "cell_type": "code",
   "execution_count": 92,
   "metadata": {
    "ExecuteTime": {
     "end_time": "2020-08-18T17:09:21.072326Z",
     "start_time": "2020-08-18T17:09:21.028479Z"
    }
   },
   "outputs": [
    {
     "data": {
      "text/html": [
       "<div>\n",
       "<style scoped>\n",
       "    .dataframe tbody tr th:only-of-type {\n",
       "        vertical-align: middle;\n",
       "    }\n",
       "\n",
       "    .dataframe tbody tr th {\n",
       "        vertical-align: top;\n",
       "    }\n",
       "\n",
       "    .dataframe thead th {\n",
       "        text-align: right;\n",
       "    }\n",
       "</style>\n",
       "<table border=\"1\" class=\"dataframe\">\n",
       "  <thead>\n",
       "    <tr style=\"text-align: right;\">\n",
       "      <th></th>\n",
       "      <th>Note denoised</th>\n",
       "      <th>Denoised</th>\n",
       "    </tr>\n",
       "  </thead>\n",
       "  <tbody>\n",
       "    <tr>\n",
       "      <td>Not shrunk</td>\n",
       "      <td>0.004929</td>\n",
       "      <td>0.001138</td>\n",
       "    </tr>\n",
       "    <tr>\n",
       "      <td>Shrunk</td>\n",
       "      <td>0.004929</td>\n",
       "      <td>0.001369</td>\n",
       "    </tr>\n",
       "  </tbody>\n",
       "</table>\n",
       "</div>"
      ],
      "text/plain": [
       "            Note denoised  Denoised\n",
       "Not shrunk       0.004929  0.001138\n",
       "Shrunk           0.004929  0.001369"
      ]
     },
     "execution_count": 92,
     "metadata": {},
     "output_type": "execute_result"
    }
   ],
   "source": [
    "#SNIPPET 2.11 ROOT-MEAN-SQUARE ERRORS\n",
    "w0=optPort(cov0,None if minVarPortf else mu0) \n",
    "w0=np.repeat(w0.T,w1.shape[0],axis=0) \n",
    "rmsd=np.mean((w1-w0).values.flatten()**2)**.5 # RMSE  not shrunk not denoised\n",
    "rmsd_d=np.mean((w1_d-w0).values.flatten()**2)**.5 # RMSE not shrunk denoised\n",
    "rmsd_s=np.mean((w1_s-w0).values.flatten()**2)**.5 # RMSE shrunk not denoised\n",
    "rmsd_s_d=np.mean((w1_s_d-w0).values.flatten()**2)**.5 # RMSE shrunk denoised\n",
    "\n",
    "res_tab = pd.DataFrame(columns = ['Note denoised','Denoised'],index = ['Not shrunk','Shrunk'],data = np.array([[rmsd,rmsd_d],[rmsd_s,rmsd_s_d]]))\n",
    "res_tab"
   ]
  },
  {
   "cell_type": "code",
   "execution_count": null,
   "metadata": {},
   "outputs": [],
   "source": []
  }
 ],
 "metadata": {
  "kernelspec": {
   "display_name": "Python 3",
   "language": "python",
   "name": "python3"
  },
  "language_info": {
   "codemirror_mode": {
    "name": "ipython",
    "version": 3
   },
   "file_extension": ".py",
   "mimetype": "text/x-python",
   "name": "python",
   "nbconvert_exporter": "python",
   "pygments_lexer": "ipython3",
   "version": "3.7.1"
  },
  "latex_envs": {
   "LaTeX_envs_menu_present": true,
   "autoclose": false,
   "autocomplete": true,
   "bibliofile": "biblio.bib",
   "cite_by": "apalike",
   "current_citInitial": 1,
   "eqLabelWithNumbers": true,
   "eqNumInitial": 1,
   "hotkeys": {
    "equation": "Ctrl-E",
    "itemize": "Ctrl-I"
   },
   "labels_anchors": false,
   "latex_user_defs": false,
   "report_style_numbering": false,
   "user_envs_cfg": false
  },
  "toc": {
   "base_numbering": 1,
   "nav_menu": {},
   "number_sections": true,
   "sideBar": true,
   "skip_h1_title": false,
   "title_cell": "Table of Contents",
   "title_sidebar": "Contents",
   "toc_cell": false,
   "toc_position": {},
   "toc_section_display": true,
   "toc_window_display": false
  }
 },
 "nbformat": 4,
 "nbformat_minor": 2
}
