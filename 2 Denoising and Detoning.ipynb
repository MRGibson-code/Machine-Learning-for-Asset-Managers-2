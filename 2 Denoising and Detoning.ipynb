{
 "cells": [
  {
   "cell_type": "markdown",
   "metadata": {},
   "source": [
    "# Chapter 2 Denoising and Detoning\n",
    "\n",
    "reduce the noise and enhance the signal included in an empirical covariance matrix."
   ]
  },
  {
   "cell_type": "code",
   "execution_count": 1,
   "metadata": {
    "ExecuteTime": {
     "end_time": "2020-08-24T21:11:10.986544Z",
     "start_time": "2020-08-24T21:11:10.262596Z"
    }
   },
   "outputs": [],
   "source": [
    "import numpy as np,pandas as pd\n",
    "import matplotlib.pyplot as plt\n",
    "from tqdm.notebook import tqdm"
   ]
  },
  {
   "cell_type": "markdown",
   "metadata": {},
   "source": [
    "## The Marcenko-Pastur Theorem\n"
   ]
  },
  {
   "cell_type": "markdown",
   "metadata": {},
   "source": [
    "### SNIPPET 2.1"
   ]
  },
  {
   "cell_type": "code",
   "execution_count": 2,
   "metadata": {
    "ExecuteTime": {
     "end_time": "2020-08-24T21:11:14.654202Z",
     "start_time": "2020-08-24T21:11:14.648200Z"
    }
   },
   "outputs": [],
   "source": [
    "\n",
    "#--------------------------------------------------- \n",
    "\n",
    "def mpPDF(var,q,pts):\n",
    "    # Marcenko-Pastur pdf\n",
    "    # q=T/N \n",
    "    # when var= 1, C = T^-1 X'X  is the correlation matrix associated with X\n",
    "    # lambda+ =,lambda- = eMax, eMin\n",
    "    eMin,eMax=var*(1-(1./q)**.5)**2,var*(1+(1./q)**.5)**2 \n",
    "    eVal=np.linspace(eMin,eMax,pts) \n",
    "    pdf=q/(2*np.pi*var*eVal)*((eMax-eVal)*(eVal-eMin))**.5 \n",
    "    #pdf = pdf.ravel()\n",
    "    pdf=pd.Series(pdf,index=eVal)\n",
    "    return pdf\n"
   ]
  },
  {
   "cell_type": "markdown",
   "metadata": {},
   "source": [
    "### SNIPPET 2.2"
   ]
  },
  {
   "cell_type": "code",
   "execution_count": 3,
   "metadata": {
    "ExecuteTime": {
     "end_time": "2020-08-24T21:11:16.047097Z",
     "start_time": "2020-08-24T21:11:15.480473Z"
    }
   },
   "outputs": [
    {
     "name": "stderr",
     "output_type": "stream",
     "text": [
      "/anaconda3/lib/python3.7/site-packages/sklearn/utils/deprecation.py:144: FutureWarning: The sklearn.neighbors.kde module is  deprecated in version 0.22 and will be removed in version 0.24. The corresponding classes / functions should instead be imported from sklearn.neighbors. Anything that cannot be imported from sklearn.neighbors is now part of the private API.\n",
      "  warnings.warn(message, FutureWarning)\n"
     ]
    }
   ],
   "source": [
    "from sklearn.neighbors.kde import KernelDensity\n",
    "#--------------------------------------------------- \n",
    "def getPCA(matrix):\n",
    "    # Get eVal,eVec from a Hermitian matrix \n",
    "    eVal,eVec=np.linalg.eigh(matrix) \n",
    "    indices=eVal.argsort()[::-1] # arguments for sorting eVal desc \n",
    "    eVal,eVec=eVal[indices],eVec[:,indices] \n",
    "    eVal=np.diagflat(eVal)\n",
    "    return eVal,eVec \n",
    "#--------------------------------------------------- \n",
    "def fitKDE(obs,bWidth=.25,kernel='gaussian',x=None):\n",
    "    # Fit kernel to a series of obs, and derive the prob of obs\n",
    "    # x is the array of values on which the fit KDE will be evaluated \n",
    "    if len(obs.shape)==1:\n",
    "        obs=obs.reshape(-1,1) \n",
    "    kde=KernelDensity(kernel=kernel,bandwidth=bWidth).fit(obs) \n",
    "    if x is None:\n",
    "        x=np.unique(obs).reshape(-1,1)\n",
    "    if len(x.shape)==1:\n",
    "        x=x.reshape(-1,1) \n",
    "    logProb=kde.score_samples(x) # log(density) \n",
    "    pdf=pd.Series(np.exp(logProb),index=x.flatten())\n",
    "    return pdf\n"
   ]
  },
  {
   "cell_type": "code",
   "execution_count": 4,
   "metadata": {
    "ExecuteTime": {
     "end_time": "2020-08-24T21:11:17.294939Z",
     "start_time": "2020-08-24T21:11:16.050179Z"
    }
   },
   "outputs": [
    {
     "data": {
      "text/plain": [
       "[<matplotlib.lines.Line2D at 0x10f9ba780>]"
      ]
     },
     "execution_count": 4,
     "metadata": {},
     "output_type": "execute_result"
    },
    {
     "data": {
      "text/plain": [
       "[<matplotlib.lines.Line2D at 0x124358e80>]"
      ]
     },
     "execution_count": 4,
     "metadata": {},
     "output_type": "execute_result"
    },
    {
     "data": {
      "text/plain": [
       "Text(0.5, 0, '$\\\\lambda$')"
      ]
     },
     "execution_count": 4,
     "metadata": {},
     "output_type": "execute_result"
    },
    {
     "data": {
      "text/plain": [
       "Text(0, 0.5, 'prob[$\\\\lambda$]')"
      ]
     },
     "execution_count": 4,
     "metadata": {},
     "output_type": "execute_result"
    },
    {
     "data": {
      "text/plain": [
       "<matplotlib.legend.Legend at 0x124358da0>"
      ]
     },
     "execution_count": 4,
     "metadata": {},
     "output_type": "execute_result"
    },
    {
     "data": {
      "image/png": "[encoded data removed]",
      "text/plain": [
       "<Figure size 432x288 with 1 Axes>"
      ]
     },
     "metadata": {
      "needs_background": "light"
     },
     "output_type": "display_data"
    }
   ],
   "source": [
    "#--------------------------------------------------- \n",
    "x=np.random.normal(size=(10000,1000)) \n",
    "eVal0,eVec0=getPCA(np.corrcoef(x,rowvar=False)) # each column is a variable\n",
    "pdf0=mpPDF(1.,q=x.shape[0]/float(x.shape[1]),pts=1000) \n",
    "pdf1=fitKDE(np.diag(eVal0),bWidth=.01) # empirical pdf\n",
    "ax = plt.figure().add_subplot(111)\n",
    "ax.plot(pdf0,label= 'Marcenko-Pastur')\n",
    "ax.plot(pdf1,linestyle = '--',label= 'Empirical:KDE')\n",
    "ax.set_xlabel(r'$\\lambda$')\n",
    "ax.set_ylabel(r'prob[$\\lambda$]')\n",
    "ax.legend()"
   ]
  },
  {
   "cell_type": "markdown",
   "metadata": {
    "ExecuteTime": {
     "end_time": "2020-08-18T13:21:47.400283Z",
     "start_time": "2020-08-18T13:21:47.397362Z"
    }
   },
   "source": [
    "## Random Matrix with Signal (not perfectly random)"
   ]
  },
  {
   "cell_type": "code",
   "execution_count": 5,
   "metadata": {
    "ExecuteTime": {
     "end_time": "2020-08-24T21:11:17.975593Z",
     "start_time": "2020-08-24T21:11:17.298813Z"
    }
   },
   "outputs": [],
   "source": [
    "#SNIPPET 2.3 ADD SIGNAL TO A RANDOM COVARIANCE MATRIX\n",
    "def getRndCov(nCols,nFacts): \n",
    "    w=np.random.normal(size=(nCols,nFacts))\n",
    "    cov=np.dot(w,w.T) # random cov matrix, however not full rank \n",
    "    cov+=np.diag(np.random.uniform(size=nCols)) # full rank cov \n",
    "    return cov\n",
    "#--------------------------------------------------- \n",
    "def cov2corr(cov):\n",
    "    # Derive the correlation matrix from a covariance matrix\n",
    "    std=np.sqrt(np.diag(cov)) \n",
    "    corr=cov/np.outer(std,std) \n",
    "    corr[corr<-1],corr[corr>1]=-1,1 # numerical error \n",
    "    return corr\n",
    "#--------------------------------------------------- \n",
    "alpha,nCols,nFact,q=.995,1000,100,10 \n",
    "cov=np.cov(np.random.normal(size=(nCols*q,nCols)),rowvar=False) \n",
    "cov=alpha*cov+(1-alpha)*getRndCov(nCols,nFact) # noise+signal \n",
    "corr0=cov2corr(cov)\n",
    "eVal0,eVec0=getPCA(corr0)"
   ]
  },
  {
   "cell_type": "code",
   "execution_count": 6,
   "metadata": {
    "ExecuteTime": {
     "end_time": "2020-08-24T21:11:18.912682Z",
     "start_time": "2020-08-24T21:11:17.979679Z"
    }
   },
   "outputs": [],
   "source": [
    "#SNIPPET 2.4 FITTING THE MARCENKO–PASTUR PDF \n",
    "from scipy.optimize import minimize\n",
    "#--------------------------------------------------- \n",
    "def errPDFs(var,eVal,q,bWidth,pts=1000):\n",
    "    # Fit error\n",
    "    var = var[0]\n",
    "    pdf0=mpPDF(var,q,pts) # theoretical pdf \n",
    "    pdf1=fitKDE(eVal,bWidth,x=pdf0.index.values) # empirical pdf \n",
    "    #import pdb; pdb.set_trace()\n",
    "    sse=np.sum((pdf1-pdf0)**2)\n",
    "    return sse\n",
    "#--------------------------------------------------- \n",
    "def findMaxEval(eVal,q,bWidth):\n",
    "# Find max random eVal by fitting Marcenko’s dist \n",
    "    out=minimize(lambda *x: errPDFs(*x),.5,args=(eVal,q,bWidth),bounds=((1E-5,1-1E-5),))\n",
    "    if out['success']:\n",
    "        var=out['x'][0] \n",
    "    else:\n",
    "        var=1 \n",
    "    eMax=var*(1+(1./q)**.5)**2\n",
    "    return eMax,var\n",
    "#--------------------------------------------------- \n",
    "eMax0,var0=findMaxEval(np.diag(eVal0),q,bWidth=.01) \n",
    "nFacts0=eVal0.shape[0]-np.diag(eVal0)[::-1].searchsorted(eMax0)\n",
    "\n",
    "# nFacts0 gives the number of the eigenvalue is assumed to be important (cutoff level lambda+ adjusted for the presence of nonrandom eigenvectors)"
   ]
  },
  {
   "cell_type": "code",
   "execution_count": 7,
   "metadata": {
    "ExecuteTime": {
     "end_time": "2020-08-24T21:11:22.043384Z",
     "start_time": "2020-08-24T21:11:18.914793Z"
    }
   },
   "outputs": [
    {
     "data": {
      "text/plain": [
       "[<matplotlib.lines.Line2D at 0x1243e0f60>]"
      ]
     },
     "execution_count": 7,
     "metadata": {},
     "output_type": "execute_result"
    },
    {
     "data": {
      "text/plain": [
       "<BarContainer object of 1000 artists>"
      ]
     },
     "execution_count": 7,
     "metadata": {},
     "output_type": "execute_result"
    },
    {
     "data": {
      "text/plain": [
       "Text(0.5, 0, '$\\\\lambda$')"
      ]
     },
     "execution_count": 7,
     "metadata": {},
     "output_type": "execute_result"
    },
    {
     "data": {
      "text/plain": [
       "Text(0, 0.5, 'prob[$\\\\lambda$]')"
      ]
     },
     "execution_count": 7,
     "metadata": {},
     "output_type": "execute_result"
    },
    {
     "data": {
      "text/plain": [
       "<matplotlib.legend.Legend at 0x133d93a58>"
      ]
     },
     "execution_count": 7,
     "metadata": {},
     "output_type": "execute_result"
    },
    {
     "data": {
      "image/png": "[encoded data removed]",
      "text/plain": [
       "<Figure size 432x288 with 1 Axes>"
      ]
     },
     "metadata": {
      "needs_background": "light"
     },
     "output_type": "display_data"
    }
   ],
   "source": [
    "#---------------------------------------------------\n",
    "# Fitting the Marcenko–Pastur PDF on a noisy covariance matrix.\n",
    "# estimate the sigma for Marcenko-Pastur dist\n",
    "bWidth=0.01\n",
    "out=minimize(lambda *x: errPDFs(*x),.5,args=(np.diag(eVal0),q,bWidth),bounds=((1E-5,1-1E-5),))\n",
    "if out['success']:\n",
    "    var=out['x'][0] \n",
    "else:\n",
    "    var=1\n",
    "\n",
    "pdf0=mpPDF(var,q,pts=1000) # Marcenko-Pastur dist\n",
    "pdf1=fitKDE(np.diag(eVal0),bWidth=.01) # empirical pdf\n",
    "ax = plt.figure().add_subplot(111)\n",
    "ax.plot(pdf0,label= 'Marcenko-Pastur dist')\n",
    "ax.bar(pdf1.index,pdf1.values,width = bWidth,label= 'Empirical dist',color = 'darkorange')\n",
    "ax.set_xlabel(r'$\\lambda$')\n",
    "ax.set_ylabel(r'prob[$\\lambda$]')\n",
    "ax.legend()"
   ]
  },
  {
   "cell_type": "markdown",
   "metadata": {
    "ExecuteTime": {
     "end_time": "2020-08-18T14:53:35.920500Z",
     "start_time": "2020-08-18T14:53:35.899509Z"
    }
   },
   "source": [
    "## 2.5 Denoising"
   ]
  },
  {
   "cell_type": "markdown",
   "metadata": {},
   "source": [
    "### 2.5.1 Constant Residual Eigenvalue Method\n",
    "\n",
    "setting a constant eigenvalue for all random eigenvectors."
   ]
  },
  {
   "cell_type": "code",
   "execution_count": 8,
   "metadata": {
    "ExecuteTime": {
     "end_time": "2020-08-24T21:11:22.337563Z",
     "start_time": "2020-08-24T21:11:22.046856Z"
    }
   },
   "outputs": [],
   "source": [
    "def denoisedCorr(eVal,eVec,nFacts):\n",
    "    # Remove noise from corr by fixing random eigenvalues \n",
    "    eVal_=np.diag(eVal).copy() \n",
    "    eVal_[nFacts:]=eVal_[nFacts:].sum()/float(eVal_.shape[0]-nFacts) # average the rest\n",
    "    eVal_=np.diag(eVal_)\n",
    "    corr1=np.dot(eVec,eVal_).dot(eVec.T) \n",
    "    corr1=cov2corr(corr1)\n",
    "    return corr1\n",
    "#--------------------------------------------------- \n",
    "corr1=denoisedCorr(eVal0,eVec0,nFacts0) \n",
    "eVal1,eVec1=getPCA(corr1)"
   ]
  },
  {
   "cell_type": "code",
   "execution_count": 9,
   "metadata": {
    "ExecuteTime": {
     "end_time": "2020-08-24T21:11:22.624688Z",
     "start_time": "2020-08-24T21:11:22.339557Z"
    }
   },
   "outputs": [
    {
     "data": {
      "text/plain": [
       "[<matplotlib.lines.Line2D at 0x12440e3c8>]"
      ]
     },
     "execution_count": 9,
     "metadata": {},
     "output_type": "execute_result"
    },
    {
     "data": {
      "text/plain": [
       "[<matplotlib.lines.Line2D at 0x1346f98d0>]"
      ]
     },
     "execution_count": 9,
     "metadata": {},
     "output_type": "execute_result"
    },
    {
     "data": {
      "text/plain": [
       "<matplotlib.legend.Legend at 0x1346f97b8>"
      ]
     },
     "execution_count": 9,
     "metadata": {},
     "output_type": "execute_result"
    },
    {
     "data": {
      "text/plain": [
       "Text(0.5, 0, 'Eigenvalue number')"
      ]
     },
     "execution_count": 9,
     "metadata": {},
     "output_type": "execute_result"
    },
    {
     "data": {
      "text/plain": [
       "Text(0, 0.5, 'Eigenvalue (log-scale)')"
      ]
     },
     "execution_count": 9,
     "metadata": {},
     "output_type": "execute_result"
    },
    {
     "data": {
      "image/png": "[encoded data removed]",
      "text/plain": [
       "<Figure size 432x288 with 1 Axes>"
      ]
     },
     "metadata": {
      "needs_background": "light"
     },
     "output_type": "display_data"
    }
   ],
   "source": [
    "# A comparison of eigenvalues before and after applying the residual eigenvalue method.\n",
    "ax = plt.figure().add_subplot(111)\n",
    "ax.plot(np.diagonal(eVal0),label = 'Original eigen-function')\n",
    "ax.plot(np.diagonal(eVal1),label = 'Denoised eigen-function (Constant Residual)',linestyle = '--')\n",
    "ax.legend()\n",
    "ax.set_yscale('log')\n",
    "ax.set_xlabel('Eigenvalue number')\n",
    "ax.set_ylabel('Eigenvalue (log-scale)')"
   ]
  },
  {
   "cell_type": "markdown",
   "metadata": {},
   "source": [
    "### 2.5.2 Targeted Shrinkage\n",
    "$\\alpha$ regulates the amount fo shrinkage among the eigen vectors"
   ]
  },
  {
   "cell_type": "code",
   "execution_count": 10,
   "metadata": {
    "ExecuteTime": {
     "end_time": "2020-08-24T21:11:22.916925Z",
     "start_time": "2020-08-24T21:11:22.627832Z"
    }
   },
   "outputs": [],
   "source": [
    "#SNIPPET 2.6 DENOISING BY TARGETED SHRINKAGE\n",
    "def denoisedCorr2(eVal,eVec,nFacts,alpha=0):\n",
    "# Remove noise from corr through targeted shrinkage\n",
    "    eValL,eVecL=eVal[:nFacts,:nFacts],eVec[:,:nFacts] \n",
    "    eValR,eVecR=eVal[nFacts:,nFacts:],eVec[:,nFacts:] \n",
    "    corr0=np.dot(eVecL,eValL).dot(eVecL.T) \n",
    "    corr1=np.dot(eVecR,eValR).dot(eVecR.T) \n",
    "    corr2=corr0+alpha*corr1+(1-alpha)*np.diag(np.diag(corr1)) \n",
    "    return corr2\n",
    "#--------------------------------------------------- \n",
    "corr1=denoisedCorr2(eVal0,eVec0,nFacts0,alpha=.5) \n",
    "eVal1,eVec1=getPCA(corr1)"
   ]
  },
  {
   "cell_type": "code",
   "execution_count": 11,
   "metadata": {
    "ExecuteTime": {
     "end_time": "2020-08-24T21:11:23.219192Z",
     "start_time": "2020-08-24T21:11:22.918513Z"
    }
   },
   "outputs": [
    {
     "data": {
      "text/plain": [
       "[<matplotlib.lines.Line2D at 0x1347cfef0>]"
      ]
     },
     "execution_count": 11,
     "metadata": {},
     "output_type": "execute_result"
    },
    {
     "data": {
      "text/plain": [
       "[<matplotlib.lines.Line2D at 0x134790cc0>]"
      ]
     },
     "execution_count": 11,
     "metadata": {},
     "output_type": "execute_result"
    },
    {
     "data": {
      "text/plain": [
       "<matplotlib.legend.Legend at 0x134790b00>"
      ]
     },
     "execution_count": 11,
     "metadata": {},
     "output_type": "execute_result"
    },
    {
     "data": {
      "text/plain": [
       "Text(0.5, 0, 'Eigenvalue number')"
      ]
     },
     "execution_count": 11,
     "metadata": {},
     "output_type": "execute_result"
    },
    {
     "data": {
      "text/plain": [
       "Text(0, 0.5, 'Eigenvalue (log-scale)')"
      ]
     },
     "execution_count": 11,
     "metadata": {},
     "output_type": "execute_result"
    },
    {
     "data": {
      "image/png": "[encoded data removed]",
      "text/plain": [
       "<Figure size 432x288 with 1 Axes>"
      ]
     },
     "metadata": {
      "needs_background": "light"
     },
     "output_type": "display_data"
    }
   ],
   "source": [
    "# A comparison of eigenvalues before and after applying the residual eigenvalue method.\n",
    "ax = plt.figure().add_subplot(111)\n",
    "ax.plot(np.diagonal(eVal0),label = 'Original eigen-function')\n",
    "ax.plot(np.diagonal(eVal1),label = 'Denoised eigen-function (targeted shrinkage)',linestyle = '--')\n",
    "ax.legend()\n",
    "ax.set_yscale('log')\n",
    "ax.set_xlabel('Eigenvalue number')\n",
    "ax.set_ylabel('Eigenvalue (log-scale)')"
   ]
  },
  {
   "cell_type": "markdown",
   "metadata": {},
   "source": [
    "# Experimental Results\n",
    "## 2.7.1 Minimum Variance Portfolio"
   ]
  },
  {
   "cell_type": "code",
   "execution_count": 12,
   "metadata": {
    "ExecuteTime": {
     "end_time": "2020-08-24T21:11:24.631168Z",
     "start_time": "2020-08-24T21:11:24.627286Z"
    }
   },
   "outputs": [],
   "source": [
    "def corr2cov(corr,std):\n",
    "    # Derive the covariance matrix from a correlation matrix\n",
    "    corr[corr<-1],corr[corr>1]=-1,1 # numerical error \n",
    "    cov = np.outer(std,std)*corr\n",
    "    return cov"
   ]
  },
  {
   "cell_type": "code",
   "execution_count": 13,
   "metadata": {
    "ExecuteTime": {
     "end_time": "2020-08-24T21:11:25.644704Z",
     "start_time": "2020-08-24T21:11:25.372871Z"
    }
   },
   "outputs": [],
   "source": [
    "\n",
    "#SNIPPET 2.7 GENERATING A BLOCK-DIAGONAL COVARIANCE MATRIX AND A VECTOR OF MEANS\n",
    "def formBlockMatrix(nBlocks,bSize,bCorr): \n",
    "    block=np.ones((bSize,bSize))*bCorr \n",
    "    block[range(bSize),range(bSize)]=1 \n",
    "    corr=block_diag(*([block]*nBlocks)) \n",
    "    return corr\n",
    "#--------------------------------------------------- \n",
    "def formTrueMatrix(nBlocks,bSize,bCorr):\n",
    "    #In each block, the variances are drawn from a uniform distribution bounded between 5% and 20%; the vector of means is drawn from a Normal distribution with mean and standard deviation equal to the standard deviation from the covariance matrix\n",
    "    corr0=formBlockMatrix(nBlocks,bSize,bCorr) \n",
    "    corr0=pd.DataFrame(corr0)\n",
    "    cols=corr0.columns.tolist()\n",
    "    np.random.shuffle(cols) \n",
    "    corr0=corr0[cols].loc[cols].copy(deep=True) \n",
    "    std0=np.random.uniform(.05,.2,corr0.shape[0]) \n",
    "    cov0=corr2cov(corr0,std0) \n",
    "    mu0=np.random.normal(std0,std0,cov0.shape[0]).reshape(-1,1) \n",
    "    return mu0,cov0\n",
    "#--------------------------------------------------- \n",
    "from scipy.linalg import block_diag\n",
    "from sklearn.covariance import LedoitWolf \n",
    "nBlocks,bSize,bCorr=10,50,.5\n",
    "np.random.seed(0)\n",
    "mu0,cov0=formTrueMatrix(nBlocks,bSize,bCorr)"
   ]
  },
  {
   "cell_type": "code",
   "execution_count": 14,
   "metadata": {
    "ExecuteTime": {
     "end_time": "2020-08-24T21:11:26.155587Z",
     "start_time": "2020-08-24T21:11:26.148801Z"
    }
   },
   "outputs": [],
   "source": [
    "#SNIPPET 2.8 GENERATING THE EMPIRICAL COVARIANCE MATRIX\n",
    "def simCovMu(mu0,cov0,nObs,shrink=False): \n",
    "    x=np.random.multivariate_normal(mu0.flatten(),cov0,size=nObs) \n",
    "    mu1=x.mean(axis=0).reshape(-1,1)\n",
    "    if shrink:\n",
    "        cov1=LedoitWolf().fit(x).covariance_ \n",
    "    else:\n",
    "        cov1=np.cov(x,rowvar=0)\n",
    "    return mu1,cov1"
   ]
  },
  {
   "cell_type": "code",
   "execution_count": 15,
   "metadata": {
    "ExecuteTime": {
     "end_time": "2020-08-24T21:11:26.778568Z",
     "start_time": "2020-08-24T21:11:26.773229Z"
    }
   },
   "outputs": [],
   "source": [
    "# SNIPPET 2.9 DENOISING OF THE EMPIRICAL COVARIANCE MATRIX\n",
    "def deNoiseCov(cov0,q,bWidth):\n",
    "    corr0=cov2corr(cov0)\n",
    "    eVal0,eVec0=getPCA(corr0) \n",
    "    eMax0,var0=findMaxEval(np.diag(eVal0),q,bWidth) \n",
    "    nFacts0=eVal0.shape[0]-np.diag(eVal0)[::-1].searchsorted(eMax0) \n",
    "    corr1=denoisedCorr(eVal0,eVec0,nFacts0) \n",
    "    cov1=corr2cov(corr1,np.diag(cov0)**.5)\n",
    "    return cov1"
   ]
  },
  {
   "cell_type": "code",
   "execution_count": 16,
   "metadata": {
    "ExecuteTime": {
     "end_time": "2020-08-24T21:12:45.212024Z",
     "start_time": "2020-08-24T21:11:27.430572Z"
    }
   },
   "outputs": [
    {
     "data": {
      "application/vnd.jupyter.widget-view+json": {
       "model_id": "f0dec792460a42f7bc59b7089d9c1d0b",
       "version_major": 2,
       "version_minor": 0
      },
      "text/plain": [
       "HBox(children=(FloatProgress(value=0.0), HTML(value='')))"
      ]
     },
     "metadata": {},
     "output_type": "display_data"
    },
    {
     "name": "stdout",
     "output_type": "stream",
     "text": [
      "\n"
     ]
    },
    {
     "data": {
      "application/vnd.jupyter.widget-view+json": {
       "model_id": "7a261d3f245e42fbb7747a30b9a32de3",
       "version_major": 2,
       "version_minor": 0
      },
      "text/plain": [
       "HBox(children=(FloatProgress(value=0.0), HTML(value='')))"
      ]
     },
     "metadata": {},
     "output_type": "display_data"
    },
    {
     "name": "stdout",
     "output_type": "stream",
     "text": [
      "\n"
     ]
    }
   ],
   "source": [
    "#SNIPPET 2.10 DENOISING OF THE EMPIRICAL COVARIANCE MATRIX\n",
    "def optPort(cov,mu=None): # optimal portfolio for minimum variance\n",
    "    inv=np.linalg.inv(cov) \n",
    "    ones=np.ones(shape=(inv.shape[0],1)) \n",
    "    if mu is None:\n",
    "        mu=ones\n",
    "    w=np.dot(inv,mu) \n",
    "    w/=np.dot(ones.T,w) \n",
    "    return w\n",
    "#--------------------------------------------------- \n",
    "nObs,nTrials,bWidth,shrink,minVarPortf=1000,100,.01,False,True \n",
    "w1= w1_s=pd.DataFrame(columns=range(cov0.shape[0]),\n",
    "index=range(nTrials),dtype=float) \n",
    "w1_d=w1.copy(deep=True)\n",
    "w1_s_d = w1_s.copy(deep = True)\n",
    "np.random.seed(0)\n",
    "for i in tqdm(range(nTrials)):\n",
    "    mu1,cov1=simCovMu(mu0,cov0,nObs,shrink=True)\n",
    "    if minVarPortf:\n",
    "        mu1=None \n",
    "    cov1_d=deNoiseCov(cov1,nObs*1./cov1.shape[1],bWidth) \n",
    "    w1_s.loc[i]=optPort(cov1,mu1).flatten() \n",
    "    w1_s_d.loc[i]=optPort(cov1_d,mu1).flatten()\n",
    "    \n",
    "    \n",
    "for i in tqdm(range(nTrials)):\n",
    "    mu1,cov1=simCovMu(mu0,cov0,nObs,shrink=False)\n",
    "    if minVarPortf:\n",
    "        mu1=None \n",
    "    cov1_d=deNoiseCov(cov1,nObs*1./cov1.shape[1],bWidth) \n",
    "    w1.loc[i]=optPort(cov1,mu1).flatten() \n",
    "    w1_d.loc[i]=optPort(cov1_d,mu1).flatten()"
   ]
  },
  {
   "cell_type": "code",
   "execution_count": 17,
   "metadata": {
    "ExecuteTime": {
     "end_time": "2020-08-24T21:12:47.311437Z",
     "start_time": "2020-08-24T21:12:47.265494Z"
    }
   },
   "outputs": [
    {
     "data": {
      "text/html": [
       "<div>\n",
       "<style scoped>\n",
       "    .dataframe tbody tr th:only-of-type {\n",
       "        vertical-align: middle;\n",
       "    }\n",
       "\n",
       "    .dataframe tbody tr th {\n",
       "        vertical-align: top;\n",
       "    }\n",
       "\n",
       "    .dataframe thead th {\n",
       "        text-align: right;\n",
       "    }\n",
       "</style>\n",
       "<table border=\"1\" class=\"dataframe\">\n",
       "  <thead>\n",
       "    <tr style=\"text-align: right;\">\n",
       "      <th></th>\n",
       "      <th>Note denoised</th>\n",
       "      <th>Denoised</th>\n",
       "    </tr>\n",
       "  </thead>\n",
       "  <tbody>\n",
       "    <tr>\n",
       "      <td>Not shrunk</td>\n",
       "      <td>0.004929</td>\n",
       "      <td>0.001138</td>\n",
       "    </tr>\n",
       "    <tr>\n",
       "      <td>Shrunk</td>\n",
       "      <td>0.004929</td>\n",
       "      <td>0.001369</td>\n",
       "    </tr>\n",
       "  </tbody>\n",
       "</table>\n",
       "</div>"
      ],
      "text/plain": [
       "            Note denoised  Denoised\n",
       "Not shrunk       0.004929  0.001138\n",
       "Shrunk           0.004929  0.001369"
      ]
     },
     "execution_count": 17,
     "metadata": {},
     "output_type": "execute_result"
    }
   ],
   "source": [
    "#SNIPPET 2.11 ROOT-MEAN-SQUARE ERRORS\n",
    "w0=optPort(cov0,None if minVarPortf else mu0) \n",
    "w0=np.repeat(w0.T,w1.shape[0],axis=0) \n",
    "rmsd=np.mean((w1-w0).values.flatten()**2)**.5 # RMSE  not shrunk not denoised\n",
    "rmsd_d=np.mean((w1_d-w0).values.flatten()**2)**.5 # RMSE not shrunk denoised\n",
    "rmsd_s=np.mean((w1_s-w0).values.flatten()**2)**.5 # RMSE shrunk not denoised\n",
    "rmsd_s_d=np.mean((w1_s_d-w0).values.flatten()**2)**.5 # RMSE shrunk denoised\n",
    "\n",
    "res_tab = pd.DataFrame(columns = ['Note denoised','Denoised'],index = ['Not shrunk','Shrunk'],data = np.array([[rmsd,rmsd_d],[rmsd_s,rmsd_s_d]]))\n",
    "res_tab"
   ]
  },
  {
   "cell_type": "markdown",
   "metadata": {},
   "source": [
    "# Exercise"
   ]
  },
  {
   "cell_type": "code",
   "execution_count": 23,
   "metadata": {
    "ExecuteTime": {
     "end_time": "2020-08-24T21:16:30.375243Z",
     "start_time": "2020-08-24T21:16:29.600351Z"
    }
   },
   "outputs": [
    {
     "name": "stdout",
     "output_type": "stream",
     "text": [
      "[*********************100%***********************]  4 of 4 downloaded\n"
     ]
    }
   ],
   "source": [
    "# 2.9 Exercise \n",
    "# Download the historical SP500 stocks daily closing price for the most recent year\n",
    "import bs4 as bs\n",
    "import requests\n",
    "import yfinance as yf\n",
    "import datetime\n",
    "\n",
    "resp = requests.get('http://en.wikipedia.org/wiki/List_of_S%26P_500_companies')\n",
    "soup = bs.BeautifulSoup(resp.text, 'lxml')\n",
    "table = soup.find('table', {'class': 'wikitable sortable'})\n",
    "tickers = []\n",
    "for row in table.findAll('tr')[1:]:\n",
    "    ticker = row.findAll('td')[0].text\n",
    "    tickers.append(ticker)\n",
    "\n",
    "tickers = [s.replace('\\n', '') for s in tickers]\n",
    "popular_tickers = ['AAPL','AMZN','FB','GOOGL']\n",
    "data = yf.download(popular_tickers, period = \"ytd\",auto_adjust = True)\n",
    "data = data.T.reset_index()"
   ]
  },
  {
   "cell_type": "code",
   "execution_count": 24,
   "metadata": {
    "ExecuteTime": {
     "end_time": "2020-08-24T21:16:32.634480Z",
     "start_time": "2020-08-24T21:16:32.616871Z"
    }
   },
   "outputs": [],
   "source": [
    "# get the log return time series and calculate the covariance matrix for the SP 500 stocks\n",
    "cls= data[data.level_0=='Close']\n",
    "cls = cls.drop(['level_0'],axis = 'columns')\n",
    "\n",
    "cls = cls.set_index(['level_1'])\n",
    "cls = cls.T\n",
    "cls.index = pd.to_datetime(cls.index)\n",
    "\n",
    "logret = cls.apply(np.log,axis = 0).diff().drop(pd.to_datetime(['2020-01-02']),axis = 0).fillna(0)\n"
   ]
  },
  {
   "cell_type": "code",
   "execution_count": 25,
   "metadata": {
    "ExecuteTime": {
     "end_time": "2020-08-24T21:16:39.617121Z",
     "start_time": "2020-08-24T21:16:39.609401Z"
    }
   },
   "outputs": [
    {
     "data": {
      "text/plain": [
       "20.51354416318406"
      ]
     },
     "execution_count": 25,
     "metadata": {},
     "output_type": "execute_result"
    }
   ],
   "source": [
    "# 2.a Covaraince matrix ; condition number of the correlation matrix\n",
    "\n",
    "covmat = np.cov(logret,rowvar = False) # compute the covariance matrix\n",
    "Codnum = np.linalg.cond(covmat) # condition number of correlation matrix\n",
    "Codnum"
   ]
  },
  {
   "cell_type": "code",
   "execution_count": 26,
   "metadata": {
    "ExecuteTime": {
     "end_time": "2020-08-24T21:16:41.189651Z",
     "start_time": "2020-08-24T21:16:41.181668Z"
    }
   },
   "outputs": [],
   "source": [
    "# 2.b one hundread efficient frontiers\n",
    "\n",
    "def portfolio_annualised_performance(weights, day_returns, cov_matrix):\n",
    "    returns = np.sum(day_returns.T.dot(weights)) *252\n",
    "    std = np.sqrt(np.dot(weights, np.dot(cov_matrix, weights))) * np.sqrt(252)\n",
    "    return std, returns\n",
    "\n",
    "def random_portfolios(num_portfolios, day_returns, cov_matrix, risk_free_rate):\n",
    "    '''\n",
    "    Return performance of required number of random portfolios\n",
    "    '''\n",
    "    results = np.zeros((3,num_portfolios))\n",
    "    weights_record = []\n",
    "    for i in range(num_portfolios):\n",
    "        mu, sigma = 0.1, 0.1 # mean and standard deviation of the alternative vectors of expected returns\n",
    "        weights = np.random.normal(mu, sigma, len(day_returns))\n",
    "        weights /= np.sum(weights)\n",
    "        weights_record.append(weights)\n",
    "        portfolio_std_dev, portfolio_return = portfolio_annualised_performance(weights, day_returns, cov_matrix)\n",
    "        results[0,i] = portfolio_std_dev\n",
    "        results[1,i] = portfolio_return\n",
    "        results[2,i] = (portfolio_return - risk_free_rate) / portfolio_std_dev\n",
    "    return results, weights_record\n"
   ]
  },
  {
   "cell_type": "code",
   "execution_count": 27,
   "metadata": {
    "ExecuteTime": {
     "end_time": "2020-08-24T21:16:42.750021Z",
     "start_time": "2020-08-24T21:16:42.736278Z"
    }
   },
   "outputs": [],
   "source": [
    "# Way 1 to get the efficient frontier: using optimization techniques to solve the efficient frontier \n",
    "# Time consuming\n",
    "import scipy.optimize as opt\n",
    "\n",
    "# calculate the efficient frontier , step 1: maximize sharpe ratio\n",
    "def neg_sharpe_ratio(weights, day_returns, cov_matrix, risk_free_rate):\n",
    "    p_var, p_ret = portfolio_annualised_performance(weights, day_returns, cov_matrix)\n",
    "    return -(p_ret - risk_free_rate) / p_var\n",
    "\n",
    "def max_sharpe_ratio(day_returns, cov_matrix, risk_free_rate):\n",
    "    num_assets = len(day_returns)\n",
    "    args = (day_returns, cov_matrix, risk_free_rate)\n",
    "    constraints = ({'type': 'eq', 'fun': lambda x: np.sum(x) - 1})\n",
    "    bound = (0.0,1.0)\n",
    "    bounds = tuple(bound for asset in range(num_assets))\n",
    "    result = opt.minimize(neg_sharpe_ratio, num_assets*[1./num_assets,], args=args,\n",
    "                        method='SLSQP', bounds=bounds, constraints=constraints)\n",
    "    return result\n",
    "\n",
    "# calculate the efficient frontier , step 2: minimize variance\n",
    "def portfolio_volatility(weights, day_returns, cov_matrix):\n",
    "    return portfolio_annualised_performance(weights, day_returns, cov_matrix)[0]\n",
    "\n",
    "def min_variance(day_returns, cov_matrix):\n",
    "    num_assets = len(day_returns)\n",
    "    args = (day_returns, cov_matrix)\n",
    "    constraints = ({'type': 'eq', 'fun': lambda x: np.sum(x) - 1})\n",
    "    bound = (0.0,1.0)\n",
    "    bounds = tuple(bound for asset in range(num_assets))\n",
    "\n",
    "    result = opt.minimize(portfolio_volatility, num_assets*[1./num_assets,], args=args,\n",
    "                        method='SLSQP', bounds=bounds, constraints=constraints)\n",
    "\n",
    "    return result\n",
    "\n",
    "def efficient_return(day_returns, cov_matrix, target): # target is the target value for returning the efficient frontier axis (similiar to a y-axis value )\n",
    "    num_assets = len(day_returns)\n",
    "    args = (day_returns, cov_matrix)\n",
    "\n",
    "    def portfolio_return(weights):\n",
    "        return portfolio_annualised_performance(weights, day_returns, cov_matrix)[1]\n",
    "\n",
    "    constraints = ({'type': 'eq', 'fun': lambda x: portfolio_return(x) - target},\n",
    "                   {'type': 'eq', 'fun': lambda x: np.sum(x) - 1})\n",
    "    bounds = tuple((0,1) for asset in range(num_assets))\n",
    "    result = opt.minimize(portfolio_volatility, num_assets*[1./num_assets,], args=args, method='SLSQP', bounds=bounds, constraints=constraints)\n",
    "    return result\n",
    "\n",
    "\n",
    "def efficient_frontier(day_returns, cov_matrix, returns_range): # return efficient frontier\n",
    "    efficients = []\n",
    "    for ret in tqdm(returns_range,desc='calculating efficient frontier using optimization method:'):\n",
    "        efficients.append(efficient_return(day_returns, cov_matrix, ret))\n",
    "    return efficients"
   ]
  },
  {
   "cell_type": "code",
   "execution_count": 35,
   "metadata": {
    "ExecuteTime": {
     "end_time": "2020-08-24T21:18:01.003747Z",
     "start_time": "2020-08-24T21:18:00.991779Z"
    }
   },
   "outputs": [],
   "source": [
    "def ef_with_random_portfolio_opt(day_returns,cov_matrix,num_portfolios,risk_free_rate,ax = None,return_plot = True):\n",
    "    results, weights = random_portfolios(num_portfolios,day_returns, cov_matrix, risk_free_rate)\n",
    "        \n",
    "    target = np.linspace(max(np.min(results[1]),0), np.quantile(results[1],0.7), 30)\n",
    "    efficient_portfolios = efficient_frontier(day_returns, cov_matrix, target)\n",
    "    frontier = [p['fun'] for p in efficient_portfolios]\n",
    "    \n",
    "    if return_plot:\n",
    "        if not ax:\n",
    "            fig = plt.figure(figsize=(10, 7))\n",
    "            ax = fig.add_subplot(111)\n",
    "            \n",
    "            #ax.legend(labelspacing=0.8)\n",
    "        ax.plot(frontier, target,color = 'black',linewidth = 2,label = 'efficient frontier')\n",
    "        \n",
    "        ax.scatter(results[0,:],results[1,:],c=results[2,:],cmap='YlGnBu', marker='o', s=10, alpha=0.3)\n",
    "        ax.set_title('Calculated Portfolio Optimization based on Efficient Frontier')\n",
    "        ax.set_xlabel('annualised volatility')\n",
    "        ax.set_ylabel('annualised returns')\n",
    "        ax.legend()\n",
    "    \n",
    "    return ax,[frontier,target]\n",
    "    "
   ]
  },
  {
   "cell_type": "code",
   "execution_count": 36,
   "metadata": {
    "ExecuteTime": {
     "end_time": "2020-08-24T21:18:04.691576Z",
     "start_time": "2020-08-24T21:18:02.511123Z"
    }
   },
   "outputs": [
    {
     "data": {
      "application/vnd.jupyter.widget-view+json": {
       "model_id": "c942ac563e854269adfc3229a0d553b4",
       "version_major": 2,
       "version_minor": 0
      },
      "text/plain": [
       "HBox(children=(FloatProgress(value=0.0, description='calculating efficient frontier using optimization method:…"
      ]
     },
     "metadata": {},
     "output_type": "display_data"
    },
    {
     "name": "stdout",
     "output_type": "stream",
     "text": [
      "\n"
     ]
    },
    {
     "data": {
      "image/png": "[encoded data removed]",
      "text/plain": [
       "<Figure size 720x504 with 1 Axes>"
      ]
     },
     "metadata": {
      "needs_background": "light"
     },
     "output_type": "display_data"
    }
   ],
   "source": [
    "\n",
    "target_ret = pd.DataFrame(logret.T) # select 50 stocks to construct portfolio\n",
    "target_cov = np.cov(target_ret)\n",
    "fig = plt.figure(figsize=(10, 7))\n",
    "ax = fig.add_subplot(111)\n",
    "ax,frontier_ret = ef_with_random_portfolio_opt(target_ret,target_cov,1000,0.01,ax = ax)"
   ]
  },
  {
   "cell_type": "code",
   "execution_count": 37,
   "metadata": {
    "ExecuteTime": {
     "end_time": "2020-08-24T21:19:18.651869Z",
     "start_time": "2020-08-24T21:19:18.644304Z"
    }
   },
   "outputs": [],
   "source": [
    "# Way 2: direct infer from the efficient frontier from the simulated data\n",
    "from scipy.interpolate import interp1d\n",
    "\n",
    "\n",
    "def efficient_return_simu(results, target):\n",
    "\n",
    "    # return efficient frontier\n",
    "    # use +-5% area of the target to interpolate the efficient frontier value\n",
    "    results = pd.DataFrame(results.T).sort_values(by = 1)\n",
    "    closiest_idx = np.argmin(np.abs(results[1]-target))\n",
    "    data_target = results[1][closiest_idx]\n",
    "    target_range_min = min(data_target*0.95, data_target*1.05)\n",
    "    target_range_max = max(data_target*0.95, data_target*1.05)\n",
    "    sub_results = results.loc[(results[1] <= target_range_max) & (results[1] >= target_range_min),0:2]\n",
    "\n",
    "    return min(sub_results[0])\n",
    "\n",
    "\n",
    "def efficient_frontier_emp(day_returns, cov_matrix, num_portfolios, risk_free_rate, returns_range, random_seed=0):\n",
    "    efficients = []\n",
    "    np.random.seed(random_seed)\n",
    "    results, weights = random_portfolios(\n",
    "        num_portfolios, day_returns, cov_matrix, risk_free_rate)\n",
    "    for ret in returns_range:\n",
    "        efficients.append(efficient_return_simu(results, ret))\n",
    "    return efficients"
   ]
  },
  {
   "cell_type": "code",
   "execution_count": 38,
   "metadata": {
    "ExecuteTime": {
     "end_time": "2020-08-24T21:19:20.722306Z",
     "start_time": "2020-08-24T21:19:20.707159Z"
    }
   },
   "outputs": [],
   "source": [
    "def ef_with_random_portfolio_simu(day_returns, cov_matrix, num_portfolios, risk_free_rate, ax=None, return_plot=True, random_seed=0,mean_frontier = None):\n",
    "    results, weights = random_portfolios(\n",
    "        num_portfolios, day_returns, cov_matrix, risk_free_rate)\n",
    "    \n",
    "    #target_start = max(results[1][results[0]==np.min(results[0])][0],0)\n",
    "    target_start = 0\n",
    "    if not return_plot:\n",
    "        target_end = 30\n",
    "    else:\n",
    "        target_end = results[1][results[0]==np.max(results[0])][0]\n",
    "    \n",
    "    target = np.linspace(target_start, target_end, 30)\n",
    "    efficient_portfolios = None\n",
    "    efficient_portfolios = efficient_frontier_emp(day_returns, cov_matrix, num_portfolios, risk_free_rate, target, random_seed=random_seed)\n",
    "\n",
    "    if return_plot:\n",
    "        if not ax:\n",
    "            fig = plt.figure(figsize=(10, 7))\n",
    "            ax = fig.add_subplot(111)\n",
    "\n",
    "            # ax.legend(labelspacing=0.8)\n",
    "        if mean_frontier:\n",
    "            ax.plot(mean_frontier[0], mean_frontier[1], color='black',linewidth=2, label='mean efficient frontier')\n",
    "        else:\n",
    "            ax.plot(efficient_portfolios, target, color='black',linewidth=2, label='efficient frontier')\n",
    "\n",
    "        ax.scatter(results[0, :], results[1, :], c=results[2, :],\n",
    "                   cmap='YlGnBu', marker='o', s=10, alpha=0.3)\n",
    "        ax.set_title(\n",
    "            'Calculated Portfolio Optimization based on Efficient Frontier')\n",
    "        ax.set_xlabel('annualised volatility')\n",
    "        ax.set_ylabel('annualised returns')\n",
    "        ax.legend()\n",
    "    else:\n",
    "        ax = None\n",
    "\n",
    "    return ax, [efficient_portfolios, target]"
   ]
  },
  {
   "cell_type": "code",
   "execution_count": 45,
   "metadata": {
    "ExecuteTime": {
     "end_time": "2020-08-24T21:22:20.946660Z",
     "start_time": "2020-08-24T21:22:19.951563Z"
    }
   },
   "outputs": [
    {
     "data": {
      "image/png": "[encoded data removed]",
      "text/plain": [
       "<Figure size 720x504 with 1 Axes>"
      ]
     },
     "metadata": {
      "needs_background": "light"
     },
     "output_type": "display_data"
    }
   ],
   "source": [
    "np.random.seed(3)\n",
    "target_ret = pd.DataFrame(logret.T)\n",
    "target_cov = np.cov(target_ret)\n",
    "fig = plt.figure(figsize=(10, 7))\n",
    "ax = fig.add_subplot(111)\n",
    "ax,frontier_ret = ef_with_random_portfolio_simu(target_ret,target_cov,1000,0.01,ax = ax)"
   ]
  },
  {
   "cell_type": "code",
   "execution_count": 42,
   "metadata": {
    "ExecuteTime": {
     "end_time": "2020-08-24T21:21:30.642490Z",
     "start_time": "2020-08-24T21:20:02.355765Z"
    }
   },
   "outputs": [
    {
     "data": {
      "application/vnd.jupyter.widget-view+json": {
       "model_id": "eaed4f91da5a48b2a4daf6ba94973170",
       "version_major": 2,
       "version_minor": 0
      },
      "text/plain": [
       "HBox(children=(FloatProgress(value=0.0), HTML(value='')))"
      ]
     },
     "metadata": {},
     "output_type": "display_data"
    },
    {
     "name": "stdout",
     "output_type": "stream",
     "text": [
      "\n"
     ]
    }
   ],
   "source": [
    "np.random.seed(3)\n",
    "target_ret = pd.DataFrame(logret.T)\n",
    "target_cov = np.cov(target_ret)\n",
    "frontier = []\n",
    "for i in tqdm(range(100)):\n",
    "    ax,frontier_ret = ef_with_random_portfolio_simu(target_ret,target_cov,1000,0.01,return_plot = False,random_seed = i)\n",
    "    frontier.append(frontier_ret[0])\n",
    "    "
   ]
  },
  {
   "cell_type": "code",
   "execution_count": 44,
   "metadata": {
    "ExecuteTime": {
     "end_time": "2020-08-24T21:22:01.539451Z",
     "start_time": "2020-08-24T21:22:00.561426Z"
    }
   },
   "outputs": [
    {
     "data": {
      "image/png": "[encoded data removed]",
      "text/plain": [
       "<Figure size 720x504 with 1 Axes>"
      ]
     },
     "metadata": {
      "needs_background": "light"
     },
     "output_type": "display_data"
    }
   ],
   "source": [
    "fig = plt.figure(figsize=(10, 7))\n",
    "ax = fig.add_subplot(111)\n",
    "mean_frontier = np.mean(frontier,axis = 0)\n",
    "\n",
    "ax,_ = ef_with_random_portfolio_simu(target_ret,target_cov,1000,0.01, ax=ax, return_plot=True, random_seed=0,mean_frontier = [mean_frontier,frontier_ret[1]])"
   ]
  }
 ],
 "metadata": {
  "kernelspec": {
   "display_name": "Python 3",
   "language": "python",
   "name": "python3"
  },
  "language_info": {
   "codemirror_mode": {
    "name": "ipython",
    "version": 3
   },
   "file_extension": ".py",
   "mimetype": "text/x-python",
   "name": "python",
   "nbconvert_exporter": "python",
   "pygments_lexer": "ipython3",
   "version": "3.7.1"
  },
  "latex_envs": {
   "LaTeX_envs_menu_present": true,
   "autoclose": false,
   "autocomplete": true,
   "bibliofile": "biblio.bib",
   "cite_by": "apalike",
   "current_citInitial": 1,
   "eqLabelWithNumbers": true,
   "eqNumInitial": 1,
   "hotkeys": {
    "equation": "Ctrl-E",
    "itemize": "Ctrl-I"
   },
   "labels_anchors": false,
   "latex_user_defs": false,
   "report_style_numbering": false,
   "user_envs_cfg": false
  },
  "toc": {
   "base_numbering": 1,
   "nav_menu": {},
   "number_sections": true,
   "sideBar": true,
   "skip_h1_title": false,
   "title_cell": "Table of Contents",
   "title_sidebar": "Contents",
   "toc_cell": false,
   "toc_position": {},
   "toc_section_display": true,
   "toc_window_display": false
  }
 },
 "nbformat": 4,
 "nbformat_minor": 2
}
